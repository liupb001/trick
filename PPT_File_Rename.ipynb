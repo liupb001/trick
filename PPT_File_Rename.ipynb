{
 "cells": [
  {
   "cell_type": "markdown",
   "metadata": {},
   "source": [
    "# 批量重命名ppt的文件名   \n",
    "适用于Coursera上的ppt以下划线`('_')` 分割的文件使用可以去掉前缀"
   ]
  },
  {
   "cell_type": "code",
   "execution_count": null,
   "metadata": {
    "collapsed": false
   },
   "outputs": [],
   "source": [
    "import os  \n",
    "filePath = 'D:/your filefloder' # change filePath to which you want to rename the file in this filefolder \n",
    "pathDir = os.listdir(filePath) # list all file in this fileFolder"
   ]
  },
  {
   "cell_type": "code",
   "execution_count": null,
   "metadata": {
    "collapsed": false
   },
   "outputs": [],
   "source": [
    "pathDir"
   ]
  },
  {
   "cell_type": "code",
   "execution_count": 17,
   "metadata": {
    "collapsed": false
   },
   "outputs": [
    {
     "name": "stdout",
     "output_type": "stream",
     "text": [
      "39\n",
      "['', '5e580d2fb939c8859446', 'C4W2L05-Net.pptx']\n"
     ]
    },
    {
     "data": {
      "text/plain": [
       "'C4W2L05-Net.pptx'"
      ]
     },
     "execution_count": 17,
     "metadata": {},
     "output_type": "execute_result"
    }
   ],
   "source": [
    "print(len('_25e580d2fb939c8859446_C4W2L05-Net.pptx'))\n",
    "print(('_5e580d2fb939c8859446_C4W2L05-Net.pptx').split('_'))\n",
    "('_5e580d2fb939c8859446_C4W2L05-Net.pptx').split('_')[2] # one example for test "
   ]
  },
  {
   "cell_type": "markdown",
   "metadata": {},
   "source": [
    "** 这里有个坑，就是fileName是变量，所以不能用`len('fileName')<15`来判断文件名的长度，这语句的意思的fileName这个字符串的长度与15比较，  \n",
    "对于变量的要转换为字符串，一定记得用str，在这里就是str(fileName)!!!  **"
   ]
  },
  {
   "cell_type": "code",
   "execution_count": null,
   "metadata": {
    "collapsed": false
   },
   "outputs": [],
   "source": [
    "for fileName in pathDir:\n",
    "    if (len(str(fileName)) < 15): # 一定要注意使用str把fileName转换为字符串，而不是用'fileName'  这个判断是为了跳过已经重命名过的文件就\n",
    "        continue\n",
    "    oldDir = os.path.join(filePath, fileName) \n",
    "    #print(oldDir)\n",
    "    newDir = os.path.join(filePath, fileName.split('_')[2])\n",
    "    os.rename(oldDir,newDir)\n",
    "    #os.replace(file, file.split('_')[2])\n",
    "    #newFileName = fileName.split('_')[2]\n",
    "    #os.rename(os.path.join(fileName), os.path.join(newFileName))\n",
    "    #print(os.listdir(filePath))"
   ]
  },
  {
   "cell_type": "code",
   "execution_count": null,
   "metadata": {
    "collapsed": true
   },
   "outputs": [],
   "source": []
  }
 ],
 "metadata": {
  "anaconda-cloud": {},
  "kernelspec": {
   "display_name": "Python [conda root]",
   "language": "python",
   "name": "conda-root-py"
  },
  "language_info": {
   "codemirror_mode": {
    "name": "ipython",
    "version": 3
   },
   "file_extension": ".py",
   "mimetype": "text/x-python",
   "name": "python",
   "nbconvert_exporter": "python",
   "pygments_lexer": "ipython3",
   "version": "3.5.2"
  }
 },
 "nbformat": 4,
 "nbformat_minor": 1
}
